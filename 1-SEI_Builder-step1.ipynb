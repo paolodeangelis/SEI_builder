{
 "cells": [
  {
   "cell_type": "markdown",
   "id": "separated-mobile",
   "metadata": {},
   "source": [
    "# SEI (Solid Electrolyte Interface) Builder"
   ]
  },
  {
   "cell_type": "markdown",
   "id": "effective-environment",
   "metadata": {},
   "source": [
    "<div class=\"alert alert-block alert-info\">\n",
    "    <table style=\"border-collapse:collapse; vertical-align:top\">\n",
    "    <col style=\"width:35%; min-width:150px;\"/>\n",
    "    <col style=\"width:65%; min-width:200px;\"/>\n",
    "    <tfoot>\n",
    "        <tr>\n",
    "            <td style=\"border-right:2px solid #ffffff; min-width:300px\">\n",
    "                <a href=\"https://www.big-map.eu/\">\n",
    "                    <img style=\"width:12%; min-width:25px\" src=\"img/logo-bigmap.png\" alt=\"BIG MAP site\" >\n",
    "                </a>\n",
    "                <a href=\"https://areeweb.polito.it/ricerca/small/\">\n",
    "                    <img style=\"width:50%; min-width:100px\" src=\"img/logo-small.png\" alt=\"SMALL site\" >\n",
    "                </a>\n",
    "                <a href=\"https://www.polito.it/\">\n",
    "                    <img style=\"width:30%; min-width:60px\" src=\"img/logo-polito.png\" alt=\"POLITO site\" >\n",
    "                </a>\n",
    "            </td>\n",
    "            <td style=\"border-collapse:collapse;color:#0097a7; font-size:11pt; text-align:right; min-width:200px\">\n",
    "                <b>Autors:</b><br>            \n",
    "                Paolo De Angelis (<a href=\"mailto:paolodeangelis@polito.it\">paolodeangelis@polito.it</a>)<br>  \n",
    "                Roberta Cappabianca (<a href=\"mailto:roberta.cappabianca@polito.it\">roberta.cappabianca@polito.it</a>)<br>  \n",
    "                Eliodoro Chiavazzo (<a href=\"mailto:eliodoro.chiavazzo@polito.it\">eliodoro.chiavazzo@polito.it</a>)<br>  \n",
    "                Pietro Asianri (<a href=\"mailto:pietro.asinari@polito.it\">pietro.asinari@polito.it</a>)\n",
    "            </td>\n",
    "        </tr>\n",
    "    </tfoot>\n",
    "    </table>\n",
    "</div>\n",
    "\n",
    "---"
   ]
  },
  {
   "cell_type": "markdown",
   "id": "wicked-wrestling",
   "metadata": {},
   "source": [
    "**Base Idea**\n",
    "\n",
    "Reconstruction of SEI by randomly positioning of monocrystal grains in mass proportion from the previous step and from a size distribution (from experiments?).\n",
    "\n",
    "**Assumptions**\n",
    "* SEI is made by packing monocrystal grains.\n",
    "* The grain size follows a given size distribution.\n",
    "* Each grain shape can be obtained by cutting the supercell with different crystal planes.\n",
    "* By annealing the system, we will allow the atoms on the grain surfaces to form the \"grain bonds.\"\n",
    "\n",
    "![Sei builder sketch](img/sei_builder_sketch.png)"
   ]
  },
  {
   "cell_type": "markdown",
   "id": "complicated-prison",
   "metadata": {},
   "source": [
    "## Libraries"
   ]
  },
  {
   "cell_type": "code",
   "execution_count": 20,
   "id": "alternate-thesis",
   "metadata": {},
   "outputs": [
    {
     "name": "stdout",
     "output_type": "stream",
     "text": [
      "The autoreload extension is already loaded. To reload it, use:\n",
      "  %reload_ext autoreload\n"
     ]
    }
   ],
   "source": [
    "%load_ext autoreload\n",
    "%autoreload 2\n",
    "# TODO remove lines aboves\n",
    "\n",
    "import importlib\n",
    "import os\n",
    "import pickle\n",
    "import sys\n",
    "from collections import deque\n",
    "\n",
    "import matplotlib.gridspec as gridspec\n",
    "import matplotlib.pyplot as plt\n",
    "import numpy as np\n",
    "import pandas as pd\n",
    "import scipy.stats as stats\n",
    "from ase.lattice.cubic import DiamondFactory\n",
    "from ase.lattice.hexagonal import HexagonalFactory\n",
    "from ase.visualize import view\n",
    "from ase.visualize.plot import plot_atoms\n",
    "from numpy.random import PCG64, Generator\n",
    "\n",
    "from seibuilder import (  # get_bulk_atoms,\n",
    "    from_d_to_grain,\n",
    "    get_gcd_pedices,\n",
    "    get_stable_crystal,\n",
    "    random_sei_grains,\n",
    ")\n",
    "from seibuilder.packmol import PackmolStructure, packmol\n",
    "from seibuilder.utils import makedir\n",
    "\n",
    "plt.style.use(\"default\")"
   ]
  },
  {
   "cell_type": "markdown",
   "id": "c7b9555d",
   "metadata": {},
   "source": [
    "<div class=\"alert alert-block alert-danger\">\n",
    "<b>⚠️ Danger:</b> if the previus <i>cell code</i> where we import all the useful libraries you get the \n",
    "following message\n",
    "\n",
    "<code>\n",
    ".../SEI_builder/seibuilder/mpinterfaces/__init__.py:35: UserWarning: mpint_config.yaml file not configured.\n",
    "</code>\n",
    "\n",
    "You have to get and store the Material Project API Key. Read the relative section in the README file or \n",
    "the documentation.\n",
    "</div>"
   ]
  },
  {
   "cell_type": "markdown",
   "id": "c0cc47c3",
   "metadata": {},
   "source": [
    "## Settings"
   ]
  },
  {
   "cell_type": "markdown",
   "id": "953b0b7b",
   "metadata": {},
   "source": [
    "In the **code cell** below, we set the main constants.\n",
    "\n",
    "* `PACKMOL_BIN`: is the path to packmol binary\n",
    "* `SEED`: seed number for the random generator\n",
    "* `SEI_COMPONENTS_INFO`: is a `pandas.DataFrame` containing all the information about the inorganic salts \n",
    "    forming the SEI"
   ]
  },
  {
   "cell_type": "code",
   "execution_count": 21,
   "id": "a64d24d3",
   "metadata": {},
   "outputs": [
    {
     "name": "stdout",
     "output_type": "stream",
     "text": [
      "\u001b[33m[W]: Folder out/plots already exist\u001b[0m\n",
      "\u001b[33m[W]: Folder out/sei_conf already exist\u001b[0m\n"
     ]
    }
   ],
   "source": [
    "PACKMOL_BIN = \"./packmol/packmol\"  # Optional, if packmol is bin folder is in the PATH you can set it as `None`\n",
    "SEED = 42\n",
    "np.array([24, 7, 4])  # [N molecules] LiF, Li2CO3, Li2O\n",
    "\n",
    "NATOMS = 5000  # Number of atoms inside the numerical box\n",
    "NATOMS_GRAIN = 700  # Max number of atoms of a single grain\n",
    "CUTTING_PLANES = [  # List of Miller indices with all possible cutting surfaces to use to get an SEI grain\n",
    "    (1, 0, 0),\n",
    "    (1, 1, 0),\n",
    "    (1, 1, 1),\n",
    "    (1, 2, 0),\n",
    "    (1, 3, 0),\n",
    "    (1, 2, 1),\n",
    "    (1, 3, 1),\n",
    "]\n",
    "SEI_COMPONENTS_INFO = pd.DataFrame(\n",
    "    index=[\"LiF\", \"Li2CO3\", \"Li2O\"],  # Empircal chemical formulat of the components (rows)\n",
    "    columns=[  # name of each data (columns)\n",
    "        \"molar fraction\",  # The cristals molar fraction\n",
    "        \"size distribution (mean)\",  # The mean grain diameters\n",
    "        \"size distribution (std)\",  # The std grain diameters\n",
    "    ],\n",
    "    data=[\n",
    "        [24 / 35, 15.0, 3.0],  # LiF\n",
    "        [7 / 35, 13.0, 3.0],  # Li2CO3\n",
    "        [4 / 35, 10.0, 2.0],  # Li2O\n",
    "    ],\n",
    ")\n",
    "\n",
    "# Outputs\n",
    "PLOT_DIR = \"out/plots\"\n",
    "makedir(PLOT_DIR)\n",
    "CONF_DIR = \"out/sei_conf\"\n",
    "makedir(CONF_DIR)"
   ]
  },
  {
   "cell_type": "markdown",
   "id": "f1c857b3",
   "metadata": {},
   "source": [
    "showing the data for the SEI"
   ]
  },
  {
   "cell_type": "code",
   "execution_count": 3,
   "id": "f4106cc4",
   "metadata": {},
   "outputs": [
    {
     "data": {
      "text/html": [
       "<div>\n",
       "<style scoped>\n",
       "    .dataframe tbody tr th:only-of-type {\n",
       "        vertical-align: middle;\n",
       "    }\n",
       "\n",
       "    .dataframe tbody tr th {\n",
       "        vertical-align: top;\n",
       "    }\n",
       "\n",
       "    .dataframe thead th {\n",
       "        text-align: right;\n",
       "    }\n",
       "</style>\n",
       "<table border=\"1\" class=\"dataframe\">\n",
       "  <thead>\n",
       "    <tr style=\"text-align: right;\">\n",
       "      <th></th>\n",
       "      <th>molar fraction</th>\n",
       "      <th>size distribution (mean)</th>\n",
       "      <th>size distribution (std)</th>\n",
       "    </tr>\n",
       "  </thead>\n",
       "  <tbody>\n",
       "    <tr>\n",
       "      <th>LiF</th>\n",
       "      <td>0.685714</td>\n",
       "      <td>15.0</td>\n",
       "      <td>3.0</td>\n",
       "    </tr>\n",
       "    <tr>\n",
       "      <th>Li2CO3</th>\n",
       "      <td>0.200000</td>\n",
       "      <td>13.0</td>\n",
       "      <td>3.0</td>\n",
       "    </tr>\n",
       "    <tr>\n",
       "      <th>Li2O</th>\n",
       "      <td>0.114286</td>\n",
       "      <td>10.0</td>\n",
       "      <td>2.0</td>\n",
       "    </tr>\n",
       "  </tbody>\n",
       "</table>\n",
       "</div>"
      ],
      "text/plain": [
       "        molar fraction  size distribution (mean)  size distribution (std)\n",
       "LiF           0.685714                      15.0                      3.0\n",
       "Li2CO3        0.200000                      13.0                      3.0\n",
       "Li2O          0.114286                      10.0                      2.0"
      ]
     },
     "execution_count": 3,
     "metadata": {},
     "output_type": "execute_result"
    }
   ],
   "source": [
    "SEI_COMPONENTS_INFO"
   ]
  },
  {
   "cell_type": "markdown",
   "id": "abstract-thumbnail",
   "metadata": {
    "tags": []
   },
   "source": [
    "## Get Salts"
   ]
  },
  {
   "cell_type": "markdown",
   "id": "255bab67",
   "metadata": {},
   "source": [
    "First thing first, we are querying the [Materials Project](https://materialsproject.org/) database to get a more stable(i.e., the one with minimum formation energy) crystal unit for each salt in the DataFrame `SEI_COMPONENTS_INFO`"
   ]
  },
  {
   "cell_type": "code",
   "execution_count": 4,
   "id": "4d4378d4",
   "metadata": {},
   "outputs": [],
   "source": [
    "unitcell_mp = {}\n",
    "unitcell_ase = {}\n",
    "\n",
    "for formula in SEI_COMPONENTS_INFO.index:\n",
    "    uc_mp, uc_ase = get_stable_crystal(formula)\n",
    "    unitcell_mp[formula] = uc_mp\n",
    "    unitcell_ase[formula] = uc_ase"
   ]
  },
  {
   "cell_type": "code",
   "execution_count": 6,
   "id": "54adaaab",
   "metadata": {},
   "outputs": [
    {
     "data": {
      "image/png": "[encoded data removed]",
      "text/plain": [
       "<Figure size 1200x400 with 3 Axes>"
      ]
     },
     "metadata": {},
     "output_type": "display_data"
    }
   ],
   "source": [
    "Nuc = len(unitcell_ase)\n",
    "fig = plt.figure(figsize=[4 * min(Nuc, 3), 4 * np.floor(Nuc / 3)], dpi=100, facecolor=\"white\")\n",
    "\n",
    "with plt.style.context(\"seaborn-whitegrid\"):\n",
    "    spec = gridspec.GridSpec(ncols=min(Nuc, 3), nrows=int(np.floor(Nuc / 3)), figure=fig, wspace=0.3)\n",
    "    ax = []\n",
    "    for i, (formula, atoms) in enumerate(unitcell_ase.items()):\n",
    "        ax.append(fig.add_subplot(spec[i]))\n",
    "        plot_atoms(atoms, ax[-1], radii=0.4, rotation=\"0x,0y,0z\")\n",
    "        ax[-1].set_title(f\"{formula}\")\n",
    "        ax[-1].set_xlabel(r\"x [$\\mathrm{\\AA}$]\")\n",
    "        ax[-1].set_ylabel(r\"y [$\\mathrm{\\AA}$]\")\n",
    "\n",
    "fig.savefig(os.path.join(PLOT_DIR, \"1-crystals-unitcell.png\"), dpi=300, bbox_inches=\"tight\")"
   ]
  },
  {
   "cell_type": "markdown",
   "id": "marine-yukon",
   "metadata": {},
   "source": [
    "## Random sempling"
   ]
  },
  {
   "cell_type": "markdown",
   "id": "abandoned-china",
   "metadata": {},
   "source": [
    "### Set up sampling space"
   ]
  },
  {
   "cell_type": "code",
   "execution_count": 7,
   "id": "11c84363",
   "metadata": {},
   "outputs": [],
   "source": [
    "from functools import partial\n",
    "\n",
    "pcg64 = PCG64(seed=SEED)  # Set random number generator (PCG 64) and random state seed\n",
    "rg = Generator(pcg64)\n",
    "rg.standard_normal()  # Since we do not know the experimental size distribution, we use a gues normal PDF\n",
    "\n",
    "\n",
    "def grain_d(d_mean: float, d_std: float) -> float:\n",
    "    \"\"\"Get an SEI's grain size randomly from a gaussian distribution.\n",
    "\n",
    "    This is an auxiliary function and can be replaced with a function that sample\n",
    "    from an experimental data or different PDF.\n",
    "    Args:\n",
    "        d_mean (float): mean size grain size.\n",
    "        d_std (float): grain size standard deviation.\n",
    "\n",
    "    Returns:\n",
    "        float: random sampled size.\n",
    "    \"\"\"\n",
    "    d = rg.normal(loc=d_mean, scale=d_std, size=1)[0]\n",
    "    return d\n",
    "\n",
    "\n",
    "semplings_functions = []\n",
    "d_mean = SEI_COMPONENTS_INFO[\"size distribution (mean)\"]\n",
    "d_std = SEI_COMPONENTS_INFO[\"size distribution (std)\"]\n",
    "for d_mean_, d_std_ in zip(d_mean, d_std):\n",
    "    semplings_functions.append(partial(grain_d, d_mean_, d_std_))"
   ]
  },
  {
   "cell_type": "markdown",
   "id": "variable-spray",
   "metadata": {},
   "source": [
    "### SEI's grains sampling"
   ]
  },
  {
   "cell_type": "markdown",
   "id": "84b25848",
   "metadata": {},
   "source": [
    "With the function `random_sei_grains`, we build all the grains (nanoparticles) forming the SEI using the Wulff construction. The sampling is constrained, forcing the final molar fraction and the total number of atoms.\n",
    "\n",
    "Below are all the function inputs:"
   ]
  },
  {
   "cell_type": "code",
   "execution_count": 8,
   "id": "db6b7f93",
   "metadata": {},
   "outputs": [
    {
     "name": "stdout",
     "output_type": "stream",
     "text": [
      "Help on function random_sei_grains in module seibuilder.core.functions:\n",
      "\n",
      "random_sei_grains(Natoms: int, species_unitcell: List[pymatgen.core.structure.Structure], species_fractions: list, random_sampler: List[Callable], species_fraction_tol: float = 0.005, Ngrains_max: int = None, report: str = None, cutting_planes: list = None, n_planes: int = 2, seed: int = None) -> Tuple[numpy.ndarray, numpy.ndarray, numpy.ndarray, numpy.ndarray, List[ase.atoms.Atoms]]\n",
      "    Get the different grains knowing the size distribution, cutting planes, and molar fraction.\n",
      "    \n",
      "    The function random generates a grain knowing the crystal unit cell and the grain size distribution.\n",
      "    The sampling is constrained to get the final number of atoms close to ``Natoms`` and to respect the\n",
      "    molar fraction of each component (``species_fractions``).\n",
      "    Args:\n",
      "        Natomas (int): Max number of atoms to sample.\n",
      "        species_unitcell (List[Structure]): list containing pymatgen.Structure objects that represent\n",
      "        the unit cells of each SEI crystal component.\n",
      "        species_fractions (list): The molar fraction for each crystal.\n",
      "        random_sampler (List[Callable]): list containing the size distribution functions, i.e., a callable\n",
      "            object that returns the characteristic grain size (diameter).\n",
      "        species_fraction_tol (float, optional): tolerance for final molar fraction. Defaults to 0.005.\n",
      "        Ngrains_max (int, optional): Max number of atoms for each grain, if None will be set as 1/10 of ``Natoms``.\n",
      "            Defaults to None.\n",
      "        report (str or None, optional): report ``.csv`` file name. If None, the report will be saved in the file\n",
      "            ``report_grains_sei.csv``. Defaults to None.\n",
      "        cutting_planes (list or None, optional): _description_. Defaults to None.\n",
      "        n_planes (int, optional): number of planes to randomly choose from ``cutting_planes``. Defaults to 2.\n",
      "        seed (int, optional): random state seed for the random number generator. Defaults to None.\n",
      "    \n",
      "    Returns:\n",
      "        Tuple[numpy.ndarray, NumPy.ndarray, NumPy.ndarray, NumPy.ndarray, List[Atoms]]: tuple containing:\n",
      "            -  NumPy.ndarray:\n",
      "               an array containing the index of the cristal sampled.\n",
      "            -  NumPy.ndarray:\n",
      "               an array containing grain size sampled.\n",
      "            -  NumPy.ndarray:\n",
      "               an array containing grain volume computed as the \"convex hull\" volume from the atoms' positions.\n",
      "            -  NumPy.ndarray:\n",
      "               array with the final molar fraction for each cristal.\n",
      "            -  List[Atoms]:\n",
      "               a list containing ASE.Atoms are the random grains generated.\n",
      "\n"
     ]
    }
   ],
   "source": [
    "help(random_sei_grains)"
   ]
  },
  {
   "cell_type": "code",
   "execution_count": 22,
   "id": "adapted-posting",
   "metadata": {
    "tags": []
   },
   "outputs": [
    {
     "name": "stdout",
     "output_type": "stream",
     "text": [
      "\u001b[33m[W]: [00:59:44 CEST] Was impossible build a grain particle (8) of specie Li1 F1 with target lenght 12.53 AA and volume 1029.19 AA^3 and surface [(1, 0, 0), (1, 3, 0)][1.         0.79720585]\u001b[0m\n",
      "\u001b[33m[W]: [01:00:34 CEST] Was impossible build a grain particle (8) of specie Li1 F1 with target lenght 16.95 AA and volume 2550.61 AA^3 and surface [(1, 1, 0), (1, 3, 1)][1.         0.96515914]\u001b[0m\n",
      "\u001b[33m[W]: [01:01:30 CEST] Was impossible build a grain particle (9) of specie Li1 F1 with target lenght 16.63 AA and volume 2407.87 AA^3 and surface [(1, 2, 0), (1, 0, 0)][0.95811395 1.        ]\u001b[0m\n",
      "\u001b[33m[W]: [01:02:20 CEST] Was impossible build a grain particle (9) of specie Li1 F1 with target lenght 13.00 AA and volume 1151.27 AA^3 and surface [(1, 1, 0), (1, 2, 0)][1.        0.9678011]\u001b[0m\n",
      "\u001b[33m[W]: [01:03:57 CEST] Grain particle 12 rejected since exceed the total numebr of atoms allow for specie Li1 F1\u001b[0m                                                         \u001b[0m\n",
      "\u001b[33m[W]: [01:05:37 CEST] Grain particle 28 rejected since exceed the total numebr of atoms allow for specie Li4 C2 O6\u001b[0m                                                      \u001b[0m\n",
      "\u001b[33m[W]: [01:05:44 CEST] Grain particle 28 rejected since exceed the total numebr of atoms allow for specie Li2 O1\u001b[0m                                                         \u001b[0m\n",
      "[I]: [01:05:44 CEST] END                                                                                                                                                   \n"
     ]
    }
   ],
   "source": [
    "species_unitcell = list(unitcell_mp.values())\n",
    "species_fractions = SEI_COMPONENTS_INFO[\"molar fraction\"]\n",
    "\n",
    "out_species, out_d, out_vol, out_species_fraction, out_grains = random_sei_grains(\n",
    "    NATOMS,\n",
    "    species_unitcell,\n",
    "    species_fractions,\n",
    "    semplings_functions,\n",
    "    species_fraction_tol=0.05,\n",
    "    Ngrains_max=NATOMS_GRAIN,\n",
    "    cutting_planes=CUTTING_PLANES,\n",
    "    n_planes=2,\n",
    "    seed=SEED,\n",
    ")"
   ]
  },
  {
   "cell_type": "markdown",
   "id": "bigger-thought",
   "metadata": {},
   "source": [
    "Store the results (as pickle)"
   ]
  },
  {
   "cell_type": "code",
   "execution_count": 12,
   "id": "compound-joint",
   "metadata": {
    "vscode": {
     "languageId": "markdown"
    }
   },
   "outputs": [],
   "source": [
    "with open(os.path.join(CONF_DIR, \"0-grain_list.pkl\"), \"wb\") as file_:\n",
    "    pickle.dump([out_species, out_d, out_vol, out_species_fraction, out_grains], file_)"
   ]
  },
  {
   "cell_type": "markdown",
   "id": "existing-radius",
   "metadata": {},
   "source": [
    "### Final results analisy"
   ]
  },
  {
   "cell_type": "markdown",
   "id": "reserved-municipality",
   "metadata": {},
   "source": [
    "Load result from previus step"
   ]
  },
  {
   "cell_type": "code",
   "execution_count": 11,
   "id": "victorian-judge",
   "metadata": {},
   "outputs": [],
   "source": [
    "with open(os.path.join(CONF_DIR, \"0-grain_list.pkl\"), \"rb\") as file_:\n",
    "    out_species, out_d, out_vol, out_species_fraction, out_grains = pickle.load(file_)"
   ]
  },
  {
   "cell_type": "markdown",
   "id": "18489e79",
   "metadata": {},
   "source": [
    "Plotting particle size theoretical and computed distribution"
   ]
  },
  {
   "cell_type": "code",
   "execution_count": 14,
   "id": "composite-appraisal",
   "metadata": {},
   "outputs": [
    {
     "data": {
      "image/png": "[encoded data removed]",
      "text/plain": [
       "<Figure size 700x400 with 1 Axes>"
      ]
     },
     "metadata": {},
     "output_type": "display_data"
    }
   ],
   "source": [
    "fig = plt.figure(figsize=[7, 4], dpi=100)\n",
    "ax = fig.add_subplot(111)\n",
    "\n",
    "labels = [r\"$\\mathrm{LiF}$\", r\"$\\mathrm{Li_2CO_3}$\", r\"$\\mathrm{Li_2O}$\"]\n",
    "bins = np.linspace(out_d.min(), out_d.max(), 8)\n",
    "d_x = np.linspace(out_d.min(), out_d.max(), 200)\n",
    "\n",
    "with plt.style.context(\"seaborn-whitegrid\"):\n",
    "    hist_d, _ = np.histogram(out_d, bins=bins, density=True)\n",
    "    ax.bar(\n",
    "        bins[:-1], np.round(hist_d * len(out_species)), width=bins[1] - bins[0], align=\"edge\", label=\"total\", alpha=0.6\n",
    "    )\n",
    "    tot_dist = np.zeros(len(d_x))\n",
    "    for i in np.unique(out_species):\n",
    "        tot_dist += stats.norm.pdf(d_x, d_mean[i], d_std[i]) * np.sum(out_species == i)\n",
    "    ax.plot(d_x, tot_dist)\n",
    "\n",
    "    for i in np.unique(out_species):\n",
    "        hist_d, _ = np.histogram(out_d[out_species == i], bins=bins, density=True)\n",
    "        ax.bar(\n",
    "            bins[:-1],\n",
    "            np.round(hist_d * np.sum(out_species == i)),\n",
    "            width=bins[1] - bins[0],\n",
    "            align=\"edge\",\n",
    "            label=labels[i],\n",
    "            alpha=0.6,\n",
    "        )\n",
    "        ax.plot(d_x, stats.norm.pdf(d_x, d_mean[i], d_std[i]) * np.sum(out_species == i))\n",
    "\n",
    "    ax.legend()\n",
    "    ax.grid()\n",
    "    ax.set_xlabel(r\"Characteristic length $d$ [$\\mathrm{\\AA}$]\")\n",
    "    ax.set_ylabel(\"Number of grains [$-$]\")\n",
    "plt.show()\n",
    "fig.savefig(os.path.join(PLOT_DIR, \"2-grain_distributions.png\"), bbox_inches=\"tight\", dpi=300)"
   ]
  },
  {
   "cell_type": "markdown",
   "id": "38ebfdef",
   "metadata": {},
   "source": [
    "Plotting particle molar fractions"
   ]
  },
  {
   "cell_type": "code",
   "execution_count": 18,
   "id": "international-column",
   "metadata": {},
   "outputs": [
    {
     "data": {
      "image/png": "[encoded data removed]",
      "text/plain": [
       "<Figure size 400x700 with 1 Axes>"
      ]
     },
     "metadata": {},
     "output_type": "display_data"
    }
   ],
   "source": [
    "fig = plt.figure(figsize=[4, 7], dpi=100)\n",
    "ax = fig.add_subplot(111)\n",
    "\n",
    "labels = [r\"$\\mathrm{LiF}$\", r\"$\\mathrm{Li_2CO_3}$\", r\"$\\mathrm{Li_2O}$\"]\n",
    "x = np.arange(len(out_species_fraction))\n",
    "\n",
    "with plt.style.context(\"seaborn-whitegrid\"):\n",
    "    ax.bar(x + 0.15, species_fractions / species_fractions.sum() * 100, width=0.3, label=\"target\", alpha=0.6)\n",
    "    ax.bar(x - 0.15, out_species_fraction * 100, width=0.3, label=\"final\", alpha=0.6)\n",
    "\n",
    "    ax.legend()\n",
    "    ax.grid()\n",
    "    ax.set_xticks(x)\n",
    "    ax.set_xticklabels(labels)\n",
    "    ax.set_xlabel(\"species\")\n",
    "    ax.set_ylabel(\"mole fraction [%]\")\n",
    "plt.show()\n",
    "fig.savefig(os.path.join(PLOT_DIR, \"3-grain_mole_fraction.png\"), bbox_inches=\"tight\", dpi=300)"
   ]
  },
  {
   "cell_type": "markdown",
   "id": "4c91d98f",
   "metadata": {},
   "source": [
    "Plotting particle mass fractions"
   ]
  },
  {
   "cell_type": "code",
   "execution_count": 25,
   "id": "protective-infrastructure",
   "metadata": {},
   "outputs": [
    {
     "data": {
      "image/png": "[encoded data removed]",
      "text/plain": [
       "<Figure size 400x700 with 1 Axes>"
      ]
     },
     "metadata": {},
     "output_type": "display_data"
    }
   ],
   "source": [
    "mass = np.array([np.sum(atoms.get_masses()) for atoms in unitcell_ase.values()])\n",
    "molecules_in_unit_cell = np.array([get_gcd_pedices(system.formula) for system in species_unitcell])\n",
    "mass = mass / molecules_in_unit_cell\n",
    "atoms_in_unit_cell = np.array([len(system.sites) for system in species_unitcell])\n",
    "out_atoms = np.zeros(len(np.unique(out_species)))\n",
    "\n",
    "for i in np.unique(out_species):\n",
    "    for particle in out_grains[out_species == i]:\n",
    "        out_atoms[i] += len(particle)\n",
    "        out_mass_fraction = out_atoms / atoms_in_unit_cell * molecules_in_unit_cell\n",
    "out_mass_fraction = out_mass_fraction / out_mass_fraction.sum() * mass\n",
    "\n",
    "fig = plt.figure(figsize=[4, 7], dpi=100)\n",
    "ax = fig.add_subplot(111)\n",
    "\n",
    "labels = [r\"$\\mathrm{LiF}$\", r\"$\\mathrm{Li_2CO_3}$\", r\"$\\mathrm{Li_2O}$\"]\n",
    "x = np.arange(len(out_species_fraction))\n",
    "\n",
    "with plt.style.context(\"seaborn-whitegrid\"):\n",
    "    ax.bar(x + 0.15, species_fractions / species_fractions.sum() * mass, width=0.3, label=\"target\", alpha=0.6)\n",
    "    ax.bar(x - 0.15, out_mass_fraction, width=0.3, label=\"final\", alpha=0.6)\n",
    "\n",
    "    ax.legend()\n",
    "    ax.grid()\n",
    "    ax.set_xticks(x)\n",
    "    ax.set_xticklabels(labels)\n",
    "    ax.set_xlabel(\"species\")\n",
    "    ax.set_ylabel(\"weight fraction [g/mol]\")\n",
    "plt.show()\n",
    "fig.savefig(os.path.join(PLOT_DIR, \"4-grain_weight_fraction.png\"), bbox_inches=\"tight\", dpi=300)"
   ]
  },
  {
   "cell_type": "markdown",
   "id": "78b167d0-14e4-4b6e-bea3-38dc08f7764f",
   "metadata": {},
   "source": [
    "## Get additional characteristics"
   ]
  },
  {
   "cell_type": "markdown",
   "id": "471112ea-42a4-461f-ada4-83c611aa4a3f",
   "metadata": {},
   "source": [
    "### Bonds"
   ]
  },
  {
   "cell_type": "markdown",
   "id": "742e384c-0c21-4070-b12c-02dca0f093f2",
   "metadata": {},
   "source": [
    "We esteem the bond in the system using Modified Shoemaker and Stevenson equation (https://doi.org/10.1016/0022-2860(85)85036-5)"
   ]
  },
  {
   "cell_type": "code",
   "execution_count": 15,
   "id": "b1422a01-9f2c-4b9f-8124-dadb80a2706f",
   "metadata": {
    "tags": []
   },
   "outputs": [],
   "source": [
    "out_grains_with_bonds = []\n",
    "\n",
    "for clust_ in out_clust:\n",
    "    # convert to System\n",
    "    out_clust_with_bonds.append(System())\n",
    "    out_clust_with_bonds[-1].from_atoms(clust_)\n",
    "    # get bonds\n",
    "    out_clust_with_bonds[-1].get_bonds(n_jobs=4, tol=0.1, ignore_molecules=True, verbose=2)"
   ]
  },
  {
   "cell_type": "markdown",
   "id": "8711a06b-1ea7-42b8-94eb-26618c4db726",
   "metadata": {},
   "source": [
    "### Surface Atoms"
   ]
  },
  {
   "cell_type": "code",
   "execution_count": 16,
   "id": "d834298f-c326-40ba-b24c-4efd661c4a78",
   "metadata": {},
   "outputs": [],
   "source": [
    "for clust_ in out_clust_with_bonds:\n",
    "    bulk_atoms, score = get_bulk_atoms(clust_, strategy=\"coordination\", method=\"cutoff\", threshold=0.5)\n",
    "    clust_.info[\"bulk_atoms\"] = bulk_atoms\n",
    "    clust_.info[\"bulk_atoms_score\"] = score"
   ]
  },
  {
   "cell_type": "markdown",
   "id": "dae0a5aa-b793-4133-b007-ab3a69cca80d",
   "metadata": {},
   "source": [
    "Visualize"
   ]
  },
  {
   "cell_type": "code",
   "execution_count": 17,
   "id": "1aaa52e5-c1aa-4cc8-8d7c-c33d90653f64",
   "metadata": {},
   "outputs": [
    {
     "data": {
      "application/vnd.jupyter.widget-view+json": {
       "model_id": "54d37086278b48899042216418416bf1",
       "version_major": 2,
       "version_minor": 0
      },
      "text/plain": [
       "HBox(children=(NGLWidget(), VBox(children=(Dropdown(description='Show', options=('All', 'C', 'O'), value='All'…"
      ]
     },
     "metadata": {},
     "output_type": "display_data"
    }
   ],
   "source": [
    "from ase import Atoms\n",
    "\n",
    "clust_ = out_clust_with_bonds[11]\n",
    "positions = clust_.get_positions()\n",
    "symbols = [\"C\" if x else \"O\" for x in clust_.info[\"bulk_atoms\"]]\n",
    "col_clust = Atoms(symbols=symbols, positions=positions)\n",
    "\n",
    "v = view(col_clust, viewer=\"ngl\")\n",
    "v.view.clear()\n",
    "v.view.add_ball_and_stick(col_clust)\n",
    "v.view.add_unitcell(col_clust)\n",
    "v.view.display(gui=False)\n",
    "v"
   ]
  },
  {
   "cell_type": "markdown",
   "id": "13f780bf-3d0f-4842-9d98-3cb0b75fb95e",
   "metadata": {},
   "source": [
    "Seve the results (as pickle)"
   ]
  },
  {
   "cell_type": "code",
   "execution_count": 18,
   "id": "509df46f-e9a1-4d77-ae52-089eb887c4ba",
   "metadata": {},
   "outputs": [],
   "source": [
    "with open(os.path.join(\"data\", \"1-grain_list_with_bonds.pkl\"), \"wb\") as file_:\n",
    "    cPickle.dump([out_species, out_d, out_vol, out_species_fraction, out_clust_with_bonds], file_)"
   ]
  },
  {
   "cell_type": "markdown",
   "id": "liberal-baptist",
   "metadata": {},
   "source": [
    "## Pack all"
   ]
  },
  {
   "cell_type": "markdown",
   "id": "national-appraisal",
   "metadata": {},
   "source": [
    "### Load `Lammps wrapper`"
   ]
  },
  {
   "cell_type": "code",
   "execution_count": 2,
   "id": "amateur-plaintiff",
   "metadata": {
    "vscode": {
     "languageId": "markdown"
    }
   },
   "outputs": [
    {
     "name": "stdout",
     "output_type": "stream",
     "text": [
      "[I]: Read old settings file .lammps_wrapper/job_settings.json\n",
      "[I]: JOB settings file saved in .lammps_wrapper/job_settings.json\n"
     ]
    },
    {
     "data": {
      "text/plain": [
       "True"
      ]
     },
     "execution_count": 2,
     "metadata": {},
     "output_type": "execute_result"
    }
   ],
   "source": [
    "# SMaLL's WorkStation\n",
    "# module_stg = {\"load\": \"lammps/29Oct2020_kokkos_python\"}\n",
    "# slurm_stg = {\"--partition=\": \"small\", \"--time=\": \"240:00:00\"}\n",
    "# Maroconi100 HPC @ Cineca\n",
    "# module_stg = {\"purge\":\"\",\n",
    "#              \"load\": [\"profile/chem-phys\", \"autoload lammps/3mar2020\"]}\n",
    "# slurm_stg = {\"--partition=\": \"m100_usr_prod\",\n",
    "#             \"--qos=\": \"m100_qos_dbg\",\n",
    "#             \"--time=\": \"24:00:00\",\n",
    "#             \"--mem=\": \"20000MB\",\n",
    "#             \"--account=\": \"IscrB_MODLIBAT\"}\n",
    "# ARCHER2 HPC @ epcc.ed.ac.uk\n",
    "module_stg = {\"load\": [\"epcc-job-env\", \"lammps\"]}\n",
    "slurm_stg = {\n",
    "    \"--partition=\": \"standard\",\n",
    "    \"--qos=\": \"standard\",  # or short, or long\n",
    "    \"--time=\": \"24:00:00\",\n",
    "    \"--account=\": \"pr1u1751\",\n",
    "}\n",
    "pylmp.lammps.set_jobs_settings(slurm=slurm_stg, module=module_stg, verbose=2)"
   ]
  },
  {
   "cell_type": "code",
   "execution_count": 3,
   "id": "civilian-fisher",
   "metadata": {},
   "outputs": [
    {
     "name": "stdout",
     "output_type": "stream",
     "text": [
      "[I]: Found configuration file .lammps_wrapper/job_settings.json in the hidden folder .lammps_wrapper\n",
      "\u001b[33m[W]: There is not the user info file .lammps_wrapper/user.json in the hidden folder .lammps_wrapper\u001b[0m\n",
      "\u001b[33m[W]: Please use the function `lammps_wrapper.lammps.set_user()` to set-up the USER\u001b[0m\n",
      "[I]: User: pr1id026\n",
      "[I]: Script save in run_None.sh\n",
      "[I]: Script save in run_None.sh\n",
      "\u001b[33m[W]: Timeout!\u001b[0m\n",
      "\u001b[33m[W]: Was impossible to run the cmd `mpirun -n 1 lmp -help`\u001b[0m\n",
      "[I]: Script save in run_None.sh\n",
      "[I]: Script save in run_None.sh\n",
      "[I]: image: lammps_wrapper/lammps_wrapper/img/logo.png\n",
      "[I]: msg: <IPython.core.display.HTML object>\n"
     ]
    },
    {
     "data": {
      "text/html": [
       "<img src=\"lammps_wrapper/lammps_wrapper/img/logo.png\" style=\"float:left\" width=90px><p>&nbsp;LAMMPS wrapper successfully loaded.</p>"
      ],
      "text/plain": [
       "<IPython.core.display.HTML object>"
      ]
     },
     "metadata": {},
     "output_type": "display_data"
    }
   ],
   "source": [
    "lammps = pylmp.lammps.LAMMPS(lmp_cmd=\"lmp\", mpi_cmd=\"srun\", verbose=3)"
   ]
  },
  {
   "cell_type": "markdown",
   "id": "grateful-carry",
   "metadata": {},
   "source": [
    "### Build Anode"
   ]
  },
  {
   "cell_type": "markdown",
   "id": "8b566cc0-9465-4b3f-9509-90aff680d5a0",
   "metadata": {},
   "source": [
    "#### $C_6$ Anode"
   ]
  },
  {
   "cell_type": "code",
   "execution_count": 5,
   "id": "japanese-breast",
   "metadata": {},
   "outputs": [],
   "source": [
    "class GrFactory(HexagonalFactory):  # make a new crsital object from the HexagonalFactory\n",
    "    \"A factory for creating Graphite lattices.\"\n",
    "    xtal_name = \"graphite\"\n",
    "    bravais_basis = [[0, 0, 0], [1.0 / 3.0, 2.0 / 3.0, 0], [1.0 / 3.0, 2.0 / 3.0, 0.5], [2.0 / 3.0, 1.0 / 3.0, 0.5]]"
   ]
  },
  {
   "cell_type": "code",
   "execution_count": 6,
   "id": "better-assist",
   "metadata": {},
   "outputs": [
    {
     "data": {
      "text/plain": [
       "Cell([33.54, 34.454, 21.312885187135038])"
      ]
     },
     "execution_count": 6,
     "metadata": {},
     "output_type": "execute_result"
    }
   ],
   "source": [
    "Gr = GrFactory()\n",
    "a = 2.461  # [Å]\n",
    "c = 6.708  # [Å]\n",
    "Lx, Ly, Lz = [35.0, 35.0, 20.0]  # [Å]\n",
    "Nx, Ny, Nz = [int(np.round(Lx / c)), int(np.round(Ly / a)), int(np.round(Lz / a / 3**0.5))]\n",
    "GrAnode = Gr(\n",
    "    latticeconstant={\"a\": 2.461, \"c\": 6.708},\n",
    "    symbol=\"C\",\n",
    "    size=(Nx, Ny, Nz),\n",
    "    directions=[[0, 0, 0, 1], [1, -2, 1, 0], [1, 0, -1, 0]],\n",
    "    pbc=True,\n",
    ")\n",
    "GrAnode.info[\"name\"] = \"Anode\"\n",
    "GrAnode.cell"
   ]
  },
  {
   "cell_type": "code",
   "execution_count": 7,
   "id": "e85c34a1-5679-4326-8f54-e2ac19db53f6",
   "metadata": {},
   "outputs": [
    {
     "data": {
      "application/vnd.jupyter.widget-view+json": {
       "model_id": "82da8a3b930342cabcbbf6839ce48562",
       "version_major": 2,
       "version_minor": 0
      },
      "text/plain": []
     },
     "metadata": {},
     "output_type": "display_data"
    },
    {
     "data": {
      "application/vnd.jupyter.widget-view+json": {
       "model_id": "e1a98d4638a646bd8151345cce2f6ba1",
       "version_major": 2,
       "version_minor": 0
      },
      "text/plain": [
       "HBox(children=(NGLWidget(), VBox(children=(Dropdown(description='Show', options=('All', 'C'), value='All'), Dr…"
      ]
     },
     "metadata": {},
     "output_type": "display_data"
    }
   ],
   "source": [
    "v = view(GrAnode, viewer=\"ngl\")\n",
    "v.view.clear()\n",
    "v.view.add_ball_and_stick(GrAnode)\n",
    "v.view.add_unitcell(GrAnode)\n",
    "v.view.display(gui=False)\n",
    "v"
   ]
  },
  {
   "cell_type": "markdown",
   "id": "80be41e5-7445-4915-9458-e38d3c50d364",
   "metadata": {},
   "source": [
    "#### $SI$ Anode"
   ]
  },
  {
   "cell_type": "code",
   "execution_count": 8,
   "id": "ef565ec9-45db-48ab-99bd-c1ccda37c45d",
   "metadata": {},
   "outputs": [
    {
     "data": {
      "text/plain": [
       "Cell([34.55630839658657, 34.55630839658657, 27.15])"
      ]
     },
     "execution_count": 8,
     "metadata": {},
     "output_type": "execute_result"
    }
   ],
   "source": [
    "Diamond = DiamondFactory()\n",
    "a = 5.43  # [Å]\n",
    "Nslab = 18\n",
    "da_z = a / 4\n",
    "Lx, Ly, Lz = [35.0, 35.0, 5 * a]  # [Å]\n",
    "Nx, Ny, Nz = [int(np.round(Lx / a * 2**0.5)), int(np.round(Ly / a * 2**0.5)), int(np.round(Lz / a))]\n",
    "# Nx, Ny, Nz = [9, 9, 5]\n",
    "SiAnode = Diamond(\n",
    "    latticeconstant=a, symbol=\"Si\", size=(Nx, Ny, Nz), directions=[[1, 1, 0], [-1, 1, 0], [0, 0, 1]], pbc=True\n",
    ")\n",
    "SiAnode.info[\"name\"] = \"Anode\"\n",
    "SiAnode.cell"
   ]
  },
  {
   "cell_type": "code",
   "execution_count": 9,
   "id": "played-technical",
   "metadata": {},
   "outputs": [
    {
     "data": {
      "application/vnd.jupyter.widget-view+json": {
       "model_id": "92bb62e8d5bd45b7886e3fa2ad71f528",
       "version_major": 2,
       "version_minor": 0
      },
      "text/plain": [
       "HBox(children=(NGLWidget(), VBox(children=(Dropdown(description='Show', options=('All', 'Si'), value='All'), D…"
      ]
     },
     "metadata": {},
     "output_type": "display_data"
    }
   ],
   "source": [
    "v = view(SiAnode, viewer=\"ngl\")\n",
    "v.view.clear()\n",
    "v.view.add_ball_and_stick(SiAnode)\n",
    "v.view.add_unitcell(SiAnode)\n",
    "v.view.display(gui=False)\n",
    "v"
   ]
  },
  {
   "cell_type": "markdown",
   "id": "atlantic-missile",
   "metadata": {},
   "source": [
    "### Pack SEI grains"
   ]
  },
  {
   "cell_type": "code",
   "execution_count": 10,
   "id": "f1020a9d-39d1-4e72-ad45-15e256b3068f",
   "metadata": {},
   "outputs": [],
   "source": [
    "# Choose a Anode\n",
    "ANODE = SiAnode  # or GrAnode"
   ]
  },
  {
   "cell_type": "code",
   "execution_count": 17,
   "id": "convenient-nigeria",
   "metadata": {},
   "outputs": [
    {
     "data": {
      "text/plain": [
       "[34.55630839658657, 34.55630839658657, 72.38153131148434]"
      ]
     },
     "execution_count": 17,
     "metadata": {},
     "output_type": "execute_result"
    }
   ],
   "source": [
    "porosity = 3\n",
    "tot_vol = out_vol.sum() * (1 + porosity)\n",
    "lc, wc, hc = ANODE.get_cell().diagonal()  # [Å]\n",
    "clearance = 4  # [Å]\n",
    "box = [lc, wc, tot_vol / (lc - clearance) / (wc - clearance) + clearance]\n",
    "box"
   ]
  },
  {
   "cell_type": "code",
   "execution_count": 18,
   "id": "extended-lending",
   "metadata": {},
   "outputs": [
    {
     "name": "stdout",
     "output_type": "stream",
     "text": [
      "[I]: [14:56:20 BST]               Please cite this work if Packmol was useful: \n",
      "[I]: [14:56:20 BST] \n",
      "[I]: [14:56:20 BST]            L. Martinez, R. Andrade, E. G. Birgin, J. M. Martinez, \n",
      "[I]: [14:56:20 BST]          PACKMOL: A package for building initial configurations for\n",
      "[I]: [14:56:20 BST]                    molecular dynamics simulations. \n",
      "[I]: [14:56:20 BST]           Journal of Computational Chemistry, 30:2157-2164,2009.\n",
      "[I]: [14:56:20 BST] \n",
      "[I]: [14:56:20 BST] ################################################################################\n",
      "[I]: [14:56:20 BST] \n",
      "[I]: [14:56:20 BST]   Solution written to file: output.xyz\n",
      "[I]: [14:56:20 BST] \n",
      "[I]: [14:56:20 BST] --------------------------------------------------------------------------------\n",
      "[I]: [14:56:20 BST] \n",
      "[I]: [14:56:20 BST]    Running time:    3.30092478      seconds. \n",
      "[I]: [14:56:20 BST] \n",
      "[I]: [14:56:20 BST] --------------------------------------------------------------------------------\n",
      "[I]: [14:56:20 BST] \n",
      "[I]: [14:56:20 BST] \n",
      "[I]: [14:56:20 BST] LAMMPS_WRAPPER_MARK;COMPLETED;12/10/2021 14:56:20 BST\n",
      "[I]: [14:56:20 BST] \n",
      "e\n"
     ]
    }
   ],
   "source": [
    "tolerance = 2.5\n",
    "SEI_box = packmol(\n",
    "    [\n",
    "        PackmolStructure(\n",
    "            cluster,\n",
    "            number=1,\n",
    "            instructions=[\n",
    "                \"inside box {:.16f} {:.16f} {:.16f} {:.16f} {:.16f} {:.16f}\".format(\n",
    "                    clearance / 2,\n",
    "                    clearance / 2,\n",
    "                    clearance / 2,\n",
    "                    box[0] - clearance / 2,\n",
    "                    box[1] - clearance / 2,\n",
    "                    box[2] - clearance / 2,\n",
    "                )\n",
    "            ],\n",
    "        )\n",
    "        for cluster in out_clust\n",
    "    ],\n",
    "    packmol_bin=PACKMOL_BIN,\n",
    "    verbose=2,\n",
    "    n_lines=20,\n",
    "    cell=box,\n",
    "    tolerance=tolerance,\n",
    "    nloop=100,\n",
    "    seed=SEED,  # maxit=50,#, maxit=100,  cell=box_size,\n",
    ")"
   ]
  },
  {
   "cell_type": "code",
   "execution_count": 20,
   "id": "nuclear-indie",
   "metadata": {},
   "outputs": [
    {
     "data": {
      "application/vnd.jupyter.widget-view+json": {
       "model_id": "4886135b882b468c82d422fc1ccdee36",
       "version_major": 2,
       "version_minor": 0
      },
      "text/plain": [
       "HBox(children=(NGLWidget(), VBox(children=(Dropdown(description='Show', options=('All', 'O', 'C', 'Li', 'F'), …"
      ]
     },
     "metadata": {},
     "output_type": "display_data"
    }
   ],
   "source": [
    "v = view(SEI_box, viewer=\"ngl\")\n",
    "v.view.clear()\n",
    "v.view.add_ball_and_stick(SEI_box)\n",
    "v.view.add_unitcell(SEI_box)\n",
    "v.view.display(gui=False)\n",
    "v"
   ]
  },
  {
   "cell_type": "markdown",
   "id": "monthly-pontiac",
   "metadata": {},
   "source": [
    "#### Compute bonds"
   ]
  },
  {
   "cell_type": "markdown",
   "id": "imposed-paintball",
   "metadata": {},
   "source": [
    "We esteem the bond in the system using Modified Shoemaker and Stevenson equation (https://doi.org/10.1016/0022-2860(85)85036-5)"
   ]
  },
  {
   "cell_type": "code",
   "execution_count": 87,
   "id": "devoted-favorite",
   "metadata": {
    "tags": []
   },
   "outputs": [],
   "source": [
    "SEI_box.get_bonds(n_jobs=4, tol=0.1, verbose=2)"
   ]
  },
  {
   "cell_type": "code",
   "execution_count": 88,
   "id": "appointed-complex",
   "metadata": {},
   "outputs": [],
   "source": [
    "bond_matrix = SEI_box.get_bond_matrix()"
   ]
  },
  {
   "cell_type": "code",
   "execution_count": 89,
   "id": "concrete-extra",
   "metadata": {},
   "outputs": [
    {
     "data": {
      "image/png": "[encoded data removed]",
      "text/plain": [
       "<Figure size 504x504 with 1 Axes>"
      ]
     },
     "metadata": {},
     "output_type": "display_data"
    }
   ],
   "source": [
    "fig4 = plt.figure(figsize=[7, 7])\n",
    "ax = fig4.add_subplot(111)\n",
    "ax_zoom = ax.inset_axes([0.1, 0.02, 0.35, 0.35])\n",
    "ax.spy(bond_matrix, markersize=1, label=\"Bonds\")\n",
    "ax_zoom.spy(bond_matrix, markersize=1)\n",
    "# add grains border:\n",
    "for atoms_list in SEI_box.molecules_index:\n",
    "    i_min = np.min(atoms_list)\n",
    "    i_max = np.max(atoms_list)\n",
    "    square = plt.Rectangle((i_min, i_min), i_max - i_min, i_max - i_min, fc=\"none\", ec=\"red\")\n",
    "    ax.add_patch(square)\n",
    "    square = plt.Rectangle((i_min, i_min), i_max - i_min, i_max - i_min, fc=\"none\", ec=\"red\")\n",
    "    ax_zoom.add_patch(square)\n",
    "ax_zoom.set_ylim([1100, 900])\n",
    "ax_zoom.set_xlim([900, 1100])\n",
    "ax.indicate_inset_zoom(ax_zoom)\n",
    "handles, labels = ax.get_legend_handles_labels()\n",
    "handles[-1] = plt.Rectangle((0, 0), 0, 0, fc=\"none\", ec=\"red\")\n",
    "labels[-1] = \"SEI grains\"\n",
    "ax.legend(handles, labels)\n",
    "ax.set_xlabel(\"atom $j$\")\n",
    "ax.xaxis.set_label_position(\"top\")\n",
    "ax.set_ylabel(\"atom $i$\")\n",
    "plt.show()\n",
    "fig4.savefig(os.path.join(\"plots\", \"fig4-SEI_initial_configuration_bond-matrix.png\"), bbox_inches=\"tight\", dpi=300)"
   ]
  },
  {
   "cell_type": "markdown",
   "id": "physical-founder",
   "metadata": {},
   "source": [
    "Save the graphite ans SEI strucure before any simulation"
   ]
  },
  {
   "cell_type": "code",
   "execution_count": 90,
   "id": "pretty-bhutan",
   "metadata": {},
   "outputs": [],
   "source": [
    "SEI_box.save(os.path.join(\"data\", \"1-SEI_initial_comf.pkl\"))"
   ]
  },
  {
   "cell_type": "markdown",
   "id": "sophisticated-subject",
   "metadata": {},
   "source": [
    "## Compacting"
   ]
  },
  {
   "cell_type": "markdown",
   "id": "laden-baseball",
   "metadata": {},
   "source": [
    "Reload the initial configuration"
   ]
  },
  {
   "cell_type": "code",
   "execution_count": 2,
   "id": "sustainable-thesaurus",
   "metadata": {
    "tags": []
   },
   "outputs": [],
   "source": [
    "SEI_box = System()\n",
    "SEI_box.load(os.path.join(\"data\", \"1-SEI_initial_comf.pkl\"))"
   ]
  },
  {
   "cell_type": "markdown",
   "id": "humanitarian-function",
   "metadata": {},
   "source": [
    "### Load `Lammps wrapper`"
   ]
  },
  {
   "cell_type": "code",
   "execution_count": 42,
   "id": "fifth-stephen",
   "metadata": {},
   "outputs": [
    {
     "name": "stdout",
     "output_type": "stream",
     "text": [
      "[I]: Read old settings file .lammps_wrapper/job_settings.json\n",
      "[I]: JOB settings file saved in .lammps_wrapper/job_settings.json\n"
     ]
    },
    {
     "data": {
      "text/plain": [
       "True"
      ]
     },
     "execution_count": 42,
     "metadata": {},
     "output_type": "execute_result"
    }
   ],
   "source": [
    "# SMaLL's WorkStation\n",
    "# module_stg = {\"load\": \"lammps/29Oct2020_kokkos_python\"}\n",
    "# slurm_stg = {\"--partition=\": \"small\",     \"--time=\": \"240:00:00\"}\n",
    "# Cineca HPC\n",
    "module_stg = {\"purge\": \"\", \"load\": [\"profile/chem-phys\", \"autoload lammps/3mar2020\"]}\n",
    "slurm_stg = {\n",
    "    \"--partition=\": \"m100_usr_prod\",\n",
    "    \"--qos=\": \"m100_qos_dbg\",\n",
    "    \"--time=\": \"2:00:00\",\n",
    "    \"--mem=\": \"10000MB\",\n",
    "    \"--account=\": \"IscrB_MODLIBAT\",\n",
    "}\n",
    "pylmp.lammps.set_jobs_settings(slurm=slurm_stg, module=module_stg, verbose=2)"
   ]
  },
  {
   "cell_type": "code",
   "execution_count": 44,
   "id": "attached-petersburg",
   "metadata": {},
   "outputs": [
    {
     "name": "stdout",
     "output_type": "stream",
     "text": [
      "[I]: Found configuration file .lammps_wrapper/job_settings.json in the hidden folder .lammps_wrapper\n",
      "[I]: Found user info file .lammps_wrapper/user.json in the hidden folder .lammps_wrapper\n",
      "[I]: User: pdeangel (paolo.deangelis@polito.it)\n",
      "[I]: Script save in run_None.sh\n",
      "[I]: Script save in run_None.sh\n"
     ]
    },
    {
     "data": {
      "text/html": [
       "<img src=\"../lammps_wrapper/lammps/img/logo.png\" style=\"float:left\" width=90px><p>&nbsp;LAMMPS wrapper successfully loaded.</p>"
      ],
      "text/plain": [
       "<IPython.core.display.HTML object>"
      ]
     },
     "metadata": {},
     "output_type": "display_data"
    }
   ],
   "source": [
    "lammps = pylmp.lammps.LAMMPS(lmp_cmd=\"lmp_mpi\", mpi_cmd=\"mpirun\", verbose=2)"
   ]
  },
  {
   "cell_type": "markdown",
   "id": "coupled-strike",
   "metadata": {},
   "source": [
    "### Load Reax FF"
   ]
  },
  {
   "cell_type": "markdown",
   "id": "generous-hearing",
   "metadata": {},
   "source": [
    "Load Reax Force Fiels"
   ]
  },
  {
   "cell_type": "code",
   "execution_count": 26,
   "id": "enormous-limit",
   "metadata": {
    "tags": []
   },
   "outputs": [
    {
     "data": {
      "text/plain": [
       "--- ReaxFF C/H/O/Si/Al/Li/F/P/B ------------------------------------------------\n",
       "    * 39 General Parameters:\t object.general.parm < pandas.DataFrame >\n",
       "                         \t object.general.info < dict >\n",
       "    * 9 Atoms X 32 Parameters:\t object.atoms.parm < pandas.DataFrame >\n",
       "                         \t object.atoms.info < dict >\n",
       "    * 38 Bonds X 16 Parameters:\t object.bonds.parm < pandas.DataFrame >\n",
       "                         \t object.bonds.info < dict >\n",
       "    * 29 VanDerWaals X 6 Parameters:\t object.vanderwaals.parm < pandas.DataFrame >\n",
       "                         \t object.vanderwaals.info < dict >\n",
       "    * 83 Angles X 7 Parameters:\t object.angles.parm < pandas.DataFrame >\n",
       "                         \t object.angles.info < dict >\n",
       "    * 50 Torsions X 7 Parameters:\t object.torsions.parm < pandas.DataFrame >\n",
       "                         \t object.torsions.info < dict >\n",
       "    * 2 HBonds X 4 Parameters:\t object.hbonds.parm < pandas.DataFrame >\n",
       "                         \t object.hbonds.info < dict >\n",
       "--------------------------------------------- Tot non-zeros parameters: 1521 ---"
      ]
     },
     "execution_count": 26,
     "metadata": {},
     "output_type": "execute_result"
    }
   ],
   "source": [
    "reaxff = pylmp.ff.ReaxFF()\n",
    "reaxff(os.path.join(\"data\", \"ffield.reax\"))\n",
    "# Add ReaxFF info\n",
    "reaxff.ff_authors = [\"Sang Soo Han\"]\n",
    "reaxff.ff_year = \"2015\"\n",
    "reaxff.ff_doi = \"http://battery.vfab.org/wiki/index.php/Anode_Materials_Design_Lab#Interatomic_Potential\"\n",
    "reaxff"
   ]
  },
  {
   "cell_type": "markdown",
   "id": "absolute-batch",
   "metadata": {},
   "source": [
    "Open a project"
   ]
  },
  {
   "cell_type": "code",
   "execution_count": 45,
   "id": "rough-cisco",
   "metadata": {},
   "outputs": [
    {
     "name": "stdout",
     "output_type": "stream",
     "text": [
      "[I]: Project Loaded       \u001b[32m████████████████████████████████████████████████████████████████████████\u001b[0m 100.0%\n",
      "--- PROJECT --------------------------------------------------------------------\n",
      " Name:              SEI_builder\n",
      " Working Directory: simulations\n",
      " UUID:              50998144-b937-4cf1-9045-18ba90eb77bc\n",
      " Date:              26/04/2021 21:03:07 \n",
      " Simulations:       1\n",
      "--------------------------------------------------------------------------------\n"
     ]
    }
   ],
   "source": [
    "lammps.open_project(working_dir=\"simulations\", project_name=\"SEI_builder\", verbose=0)\n",
    "project = lammps.projects[-1]\n",
    "print(project)"
   ]
  },
  {
   "cell_type": "markdown",
   "id": "competitive-tower",
   "metadata": {},
   "source": [
    "### Energy minimization"
   ]
  },
  {
   "cell_type": "code",
   "execution_count": 10,
   "id": "thrown-unknown",
   "metadata": {
    "tags": []
   },
   "outputs": [
    {
     "name": "stdout",
     "output_type": "stream",
     "text": [
      "[I]: Folder /m100_work/IscrB_MODLIBAT/pdeangel/BATTERY/SEI_builder/simulations/compacting maked\n",
      "[I]: Folder /m100_work/IscrB_MODLIBAT/pdeangel/BATTERY/SEI_builder/simulations/compacting/EM maked\n",
      "[I]: Simulation metadata updated\n",
      "[I]: Simulation successfully created\n",
      "[I]: Project metadata saved in simulations/project_metadata.json\n",
      "[I]: Simulation successfully created!\n",
      "[I]: Call `Simulation` method `Simulation.checklist()` to a get the next step before to run the it\n"
     ]
    },
    {
     "data": {
      "text/plain": [
       "Simulation object uuid:a2550950-d689-42d8-9771-29c5591b0d7b at 0x7fff490e2370"
      ]
     },
     "execution_count": 10,
     "metadata": {},
     "output_type": "execute_result"
    }
   ],
   "source": [
    "# Uncomet if you not have the simulation in the folder\n",
    "# project.make_simulation(working_dir=os.path.join(project.working_dir, 'compacting', 'EM'),\n",
    "#                         simulation_name='Compacting/EM', verbose=2)"
   ]
  },
  {
   "cell_type": "code",
   "execution_count": 12,
   "id": "collected-louisville",
   "metadata": {
    "tags": []
   },
   "outputs": [
    {
     "name": "stdout",
     "output_type": "stream",
     "text": [
      "TREE                          ID  UUID                                    INFO                      \n",
      "----------------------------------------------------------------------------------------------------\n",
      "Project: SEI_builder (1 simulations)\n",
      "└──Compacting                                                                                       \u001b[0m\n",
      "    └──EM                     0   a2550950-d689-42d8-9771-29c5591b0d7b    NR (NO_READY)             \u001b[0m\n",
      "\n"
     ]
    }
   ],
   "source": [
    "project.show()"
   ]
  },
  {
   "cell_type": "code",
   "execution_count": 46,
   "id": "eastern-turkish",
   "metadata": {},
   "outputs": [],
   "source": [
    "em_simulation = project.get_simulation(name=\"Compacting/EM\")[0]"
   ]
  },
  {
   "cell_type": "markdown",
   "id": "rubber-tooth",
   "metadata": {},
   "source": [
    "What we have to do:"
   ]
  },
  {
   "cell_type": "code",
   "execution_count": 17,
   "id": "ambient-cigarette",
   "metadata": {},
   "outputs": [
    {
     "name": "stdout",
     "output_type": "stream",
     "text": [
      "  ☑\tCreate simulation and its metadata.\n",
      "  ☐\tAdd Simulation System:\n",
      "   \tCreate and load the system with the `Simulation` class method `add_input` (`Simulation.add_input()) e.g.:\n",
      "   \t\t•  From a LAMMPS formatted file:\n",
      "   \t\t   >>> simulation.add_input(system='/Path/to/system_file.in')\n",
      "   \t\t•  From using ASE Atoms Object and the right Force Field Object:\n",
      "   \t\t   >>> mol = ase.atoms(...)\n",
      "   \t\t   >>> reaxff = lammps_wrapper.ff.ReaxFF(...)\n",
      "   \t\t   >>> simulation.add_input(system=mol, ff=reaxff))\n",
      "  ☐\tAdd LAMMPS input script:\n",
      "   \tCreate or load the LAMMPS script with class method `add_inputs` (`Simulation.add_inputs()) e.g.:\n",
      "   \t\t•  From a file:\n",
      "   \t\t   >>> simulation.add_input(input_script='/Path/to/input_file.in')\n",
      "   \t\t•  From using a dictionary with the parameters:\n",
      "   \t\t   >>> parameters = dict(units='real', atom_style='charge'\n",
      "   \t\t                         read_data=data_file_path, ...)\n",
      "   \t\t   >>> simulation.add_input(parameters=parameters)\n",
      "  ☐\t(Optional) Other inputs file:\n",
      "   \tAdd file with the `Simulation` class method `add_input` e.g.:\n",
      "   \t\t   >>> simulation.add_input(other='/Path/to/input_file.in')\n"
     ]
    }
   ],
   "source": [
    "em_simulation.check_list()"
   ]
  },
  {
   "cell_type": "markdown",
   "id": "destroyed-fetish",
   "metadata": {},
   "source": [
    "**ADD**: Input data file and reaxff"
   ]
  },
  {
   "cell_type": "code",
   "execution_count": 19,
   "id": "reported-charles",
   "metadata": {},
   "outputs": [
    {
     "name": "stdout",
     "output_type": "stream",
     "text": [
      "[I]: User: pdeangel (paolo.deangelis@polito.it)\n",
      "[I]: LAMMPS input data file save in /m100_work/IscrB_MODLIBAT/pdeangel/BATTERY/SEI_builder/simulations/compacting/EM/data.system \n",
      "[I]: LAMMPS input data file save in /m100_work/IscrB_MODLIBAT/pdeangel/BATTERY/SEI_builder/simulations/compacting/EM/data.system \n",
      "[I]: System LAMMPS input write in /m100_work/IscrB_MODLIBAT/pdeangel/BATTERY/SEI_builder/simulations/compacting/EM/data.system\n",
      "[I]: Saved System python object in /m100_work/IscrB_MODLIBAT/pdeangel/BATTERY/SEI_builder/simulations/compacting/EM/data.system.pkl\n",
      "[I]: Saved System python object in /m100_work/IscrB_MODLIBAT/pdeangel/BATTERY/SEI_builder/simulations/compacting/EM/data.system.pkl\n",
      "[I]: ReaxFF input file save in /m100_work/IscrB_MODLIBAT/pdeangel/BATTERY/SEI_builder/simulations/compacting/EM/ff.forcefield \n",
      "[I]: ReaxFF (Reactive Force Field) (Force Field) saved in /m100_work/IscrB_MODLIBAT/pdeangel/BATTERY/SEI_builder/simulations/compacting/EM/ff.forcefield\n",
      "[I]: Simulation metadata updated\n"
     ]
    }
   ],
   "source": [
    "em_simulation.add_input(system=SEI_box, ff=reaxff, atom_style=\"full\", verbose=1)"
   ]
  },
  {
   "cell_type": "markdown",
   "id": "incoming-validity",
   "metadata": {},
   "source": [
    "**ADD**: Input script"
   ]
  },
  {
   "cell_type": "code",
   "execution_count": 57,
   "id": "based-tracy",
   "metadata": {},
   "outputs": [
    {
     "name": "stdout",
     "output_type": "stream",
     "text": [
      "[I]: control file save in /m100_work/IscrB_MODLIBAT/pdeangel/BATTERY/SEI_builder/simulations/compacting/EM/control.pair_style \n",
      "\u001b[33m[W]: The following LAMMPS input commands will write in input file, but are not implemented yet\u001b[0m\n",
      "\u001b[33m[W]: into the python wrapper:\u001b[0m\u001b[0m\n",
      "[I]: LAMMPS input file save in /m100_work/IscrB_MODLIBAT/pdeangel/BATTERY/SEI_builder/simulations/compacting/EM/in.simulation\n",
      "[I]: log output style = `step temp pe etotal press vol fmax fnorm`\n",
      "[I]: Simulation steps 10000 with a timestep None\n",
      "[I]: Simulation metadata updated\n",
      "[I]: Simulation metadata updated\n"
     ]
    }
   ],
   "source": [
    "from simulation_settings import default_em\n",
    "\n",
    "parameters_em = default_em.copy()\n",
    "parameters_em.update(\n",
    "    dict(\n",
    "        read_data=em_simulation.files[\"input_system\"],\n",
    "        pair_coeff=\"* * {} {}\".format(\"ff.forcefield\", \" \".join(reaxff.elements)),\n",
    "        minimize=\"0.0 50 10000 3000\",\n",
    "    )\n",
    ")\n",
    "em_simulation.add_input(parameters=parameters_em, verbose=2)"
   ]
  },
  {
   "cell_type": "code",
   "execution_count": 29,
   "id": "patient-family",
   "metadata": {},
   "outputs": [
    {
     "name": "stdout",
     "output_type": "stream",
     "text": [
      "  ☑\tCreate simulation and its metadata.\n",
      "  ☑\tAdd Simulation System:\n",
      "   \tCreate and load the system with the `Simulation` class method `add_input` (`Simulation.add_input()) e.g.:\n",
      "   \t\t•  From a LAMMPS formatted file:\n",
      "   \t\t   >>> simulation.add_input(system='/Path/to/system_file.in')\n",
      "   \t\t•  From using ASE Atoms Object and the right Force Field Object:\n",
      "   \t\t   >>> mol = ase.atoms(...)\n",
      "   \t\t   >>> reaxff = lammps_wrapper.ff.ReaxFF(...)\n",
      "   \t\t   >>> simulation.add_input(system=mol, ff=reaxff))\n",
      "  ☑\tAdd LAMMPS input script:\n",
      "   \tCreate or load the LAMMPS script with class method `add_inputs` (`Simulation.add_inputs()) e.g.:\n",
      "   \t\t•  From a file:\n",
      "   \t\t   >>> simulation.add_input(input_script='/Path/to/input_file.in')\n",
      "   \t\t•  From using a dictionary with the parameters:\n",
      "   \t\t   >>> parameters = dict(units='real', atom_style='charge'\n",
      "   \t\t                         read_data=data_file_path, ...)\n",
      "   \t\t   >>> simulation.add_input(parameters=parameters)\n",
      "  ☐\t(Optional) Other inputs file:\n",
      "   \tAdd file with the `Simulation` class method `add_input` e.g.:\n",
      "   \t\t   >>> simulation.add_input(other='/Path/to/input_file.in')\n",
      "[I]: SIMULATION READY\n"
     ]
    }
   ],
   "source": [
    "em_simulation.check_list()"
   ]
  },
  {
   "cell_type": "code",
   "execution_count": 58,
   "id": "honest-fifty",
   "metadata": {
    "tags": []
   },
   "outputs": [],
   "source": [
    "em_simulation.run(\n",
    "    mpi=128, omp=1, gpus=None, nodes=1, ntasks_per_node=128, cpus_per_task=None, follow=False, plot=False, verbose=1\n",
    ")"
   ]
  },
  {
   "cell_type": "code",
   "execution_count": 1,
   "id": "2521f454-1f33-48e9-8977-0eaa783f8af1",
   "metadata": {},
   "outputs": [
    {
     "data": {
      "text/plain": [
       "64.0"
      ]
     },
     "execution_count": 1,
     "metadata": {},
     "output_type": "execute_result"
    }
   ],
   "source": [
    "128 / 2"
   ]
  },
  {
   "cell_type": "code",
   "execution_count": 59,
   "id": "desperate-battle",
   "metadata": {},
   "outputs": [
    {
     "name": "stdout",
     "output_type": "stream",
     "text": [
      "[I]: [21:40:24 CEST] Job 2931157 is RUNNING                                                              \n",
      "[I]: I cannot find the actual step by looking at output file (/m100_work/IscrB_MODLIBAT/pdeangel/BATTERY/SEI_builder/simulations/compacting/EM/output-Compacting_EM-2931157.out)\n"
     ]
    },
    {
     "data": {
      "text/html": [
       "\n",
       "\n",
       "\n",
       "\n",
       "\n",
       "\n",
       "  <div class=\"bk-root\" id=\"16aa1dc1-b4e0-4814-962e-a61931daed3d\" data-root-id=\"2028\"></div>\n"
      ]
     },
     "metadata": {},
     "output_type": "display_data"
    },
    {
     "data": {
      "application/javascript": "(function(root) {\n  function embed_document(root) {\n    \n  var docs_json = {\"54e86945-44fe-48cc-9e0c-23c3846ebc9b\":{\"roots\":{\"references\":[{\"attributes\":{\"children\":[{\"id\":\"1950\"},{\"id\":\"1989\"}]},\"id\":\"2028\",\"type\":\"Row\"},{\"attributes\":{\"axis\":{\"id\":\"1963\"},\"dimension\":1,\"ticker\":null},\"id\":\"1966\",\"type\":\"Grid\"},{\"attributes\":{\"text\":\"\"},\"id\":\"2097\",\"type\":\"Title\"},{\"attributes\":{\"data_source\":{\"id\":\"1984\"},\"glyph\":{\"id\":\"1985\"},\"hover_glyph\":null,\"muted_glyph\":null,\"nonselection_glyph\":{\"id\":\"1986\"},\"selection_glyph\":null,\"view\":{\"id\":\"1988\"}},\"id\":\"1987\",\"type\":\"GlyphRenderer\"},{\"attributes\":{},\"id\":\"2007\",\"type\":\"WheelZoomTool\"},{\"attributes\":{\"data\":{\"x\":[\"NaN\"],\"y\":[\"NaN\"]},\"selected\":{\"id\":\"2107\"},\"selection_policy\":{\"id\":\"2108\"}},\"id\":\"1979\",\"type\":\"ColumnDataSource\"},{\"attributes\":{\"data\":{\"x\":[\"NaN\"],\"y\":[\"NaN\"]},\"selected\":{\"id\":\"2112\"},\"selection_policy\":{\"id\":\"2113\"}},\"id\":\"2018\",\"type\":\"ColumnDataSource\"},{\"attributes\":{},\"id\":\"2107\",\"type\":\"Selection\"},{\"attributes\":{\"data_source\":{\"id\":\"1979\"},\"glyph\":{\"id\":\"1980\"},\"hover_glyph\":null,\"muted_glyph\":null,\"nonselection_glyph\":{\"id\":\"1981\"},\"selection_glyph\":null,\"view\":{\"id\":\"1983\"}},\"id\":\"1982\",\"type\":\"GlyphRenderer\"},{\"attributes\":{\"axis\":{\"id\":\"1998\"},\"ticker\":null},\"id\":\"2001\",\"type\":\"Grid\"},{\"attributes\":{\"axis\":{\"id\":\"2002\"},\"dimension\":1,\"ticker\":null},\"id\":\"2005\",\"type\":\"Grid\"},{\"attributes\":{},\"id\":\"1999\",\"type\":\"BasicTicker\"},{\"attributes\":{\"data_source\":{\"id\":\"2018\"},\"glyph\":{\"id\":\"2019\"},\"hover_glyph\":null,\"muted_glyph\":null,\"nonselection_glyph\":{\"id\":\"2020\"},\"selection_glyph\":null,\"view\":{\"id\":\"2022\"}},\"id\":\"2021\",\"type\":\"GlyphRenderer\"},{\"attributes\":{},\"id\":\"2102\",\"type\":\"BasicTickFormatter\"},{\"attributes\":{\"fill_alpha\":{\"value\":0.1},\"fill_color\":{\"value\":\"white\"},\"line_alpha\":{\"value\":0.1},\"line_color\":{\"value\":\"#1f77b4\"},\"x\":{\"field\":\"x\"},\"y\":{\"field\":\"y\"}},\"id\":\"2025\",\"type\":\"Circle\"},{\"attributes\":{},\"id\":\"1960\",\"type\":\"BasicTicker\"},{\"attributes\":{},\"id\":\"1968\",\"type\":\"WheelZoomTool\"},{\"attributes\":{},\"id\":\"1967\",\"type\":\"PanTool\"},{\"attributes\":{\"bottom_units\":\"screen\",\"fill_alpha\":0.5,\"fill_color\":\"lightgrey\",\"left_units\":\"screen\",\"level\":\"overlay\",\"line_alpha\":1.0,\"line_color\":\"black\",\"line_dash\":[4,4],\"line_width\":2,\"right_units\":\"screen\",\"top_units\":\"screen\"},\"id\":\"1971\",\"type\":\"BoxAnnotation\"},{\"attributes\":{\"bottom_units\":\"screen\",\"fill_alpha\":0.5,\"fill_color\":\"lightgrey\",\"left_units\":\"screen\",\"level\":\"overlay\",\"line_alpha\":1.0,\"line_color\":\"black\",\"line_dash\":[4,4],\"line_width\":2,\"right_units\":\"screen\",\"top_units\":\"screen\"},\"id\":\"2010\",\"type\":\"BoxAnnotation\"},{\"attributes\":{\"below\":[{\"id\":\"1959\"}],\"center\":[{\"id\":\"1962\"},{\"id\":\"1966\"}],\"left\":[{\"id\":\"1963\"}],\"plot_height\":250,\"plot_width\":450,\"renderers\":[{\"id\":\"1982\"},{\"id\":\"1987\"}],\"title\":{\"id\":\"2095\"},\"toolbar\":{\"id\":\"1973\"},\"x_range\":{\"id\":\"1951\"},\"x_scale\":{\"id\":\"1955\"},\"y_range\":{\"id\":\"1953\"},\"y_scale\":{\"id\":\"1957\"}},\"id\":\"1950\",\"subtype\":\"Figure\",\"type\":\"Plot\"},{\"attributes\":{},\"id\":\"2100\",\"type\":\"BasicTickFormatter\"},{\"attributes\":{},\"id\":\"2110\",\"type\":\"UnionRenderers\"},{\"attributes\":{},\"id\":\"2112\",\"type\":\"Selection\"},{\"attributes\":{\"line_color\":\"#1f77b4\",\"x\":{\"field\":\"x\"},\"y\":{\"field\":\"y\"}},\"id\":\"1980\",\"type\":\"Line\"},{\"attributes\":{},\"id\":\"1957\",\"type\":\"LinearScale\"},{\"attributes\":{},\"id\":\"1996\",\"type\":\"LinearScale\"},{\"attributes\":{\"source\":{\"id\":\"2023\"}},\"id\":\"2027\",\"type\":\"CDSView\"},{\"attributes\":{},\"id\":\"2115\",\"type\":\"UnionRenderers\"},{\"attributes\":{\"below\":[{\"id\":\"1998\"}],\"center\":[{\"id\":\"2001\"},{\"id\":\"2005\"}],\"left\":[{\"id\":\"2002\"}],\"plot_height\":250,\"plot_width\":450,\"renderers\":[{\"id\":\"2021\"},{\"id\":\"2026\"}],\"title\":{\"id\":\"2097\"},\"toolbar\":{\"id\":\"2012\"},\"x_range\":{\"id\":\"1990\"},\"x_scale\":{\"id\":\"1994\"},\"y_range\":{\"id\":\"1992\"},\"y_scale\":{\"id\":\"1996\"}},\"id\":\"1989\",\"subtype\":\"Figure\",\"type\":\"Plot\"},{\"attributes\":{\"data_source\":{\"id\":\"2023\"},\"glyph\":{\"id\":\"2024\"},\"hover_glyph\":null,\"muted_glyph\":null,\"nonselection_glyph\":{\"id\":\"2025\"},\"selection_glyph\":null,\"view\":{\"id\":\"2027\"}},\"id\":\"2026\",\"type\":\"GlyphRenderer\"},{\"attributes\":{\"line_alpha\":0.1,\"line_color\":\"#1f77b4\",\"x\":{\"field\":\"x\"},\"y\":{\"field\":\"y\"}},\"id\":\"2020\",\"type\":\"Line\"},{\"attributes\":{},\"id\":\"2114\",\"type\":\"Selection\"},{\"attributes\":{},\"id\":\"1951\",\"type\":\"DataRange1d\"},{\"attributes\":{},\"id\":\"1953\",\"type\":\"DataRange1d\"},{\"attributes\":{\"line_alpha\":0.1,\"line_color\":\"#1f77b4\",\"x\":{\"field\":\"x\"},\"y\":{\"field\":\"y\"}},\"id\":\"1981\",\"type\":\"Line\"},{\"attributes\":{},\"id\":\"1992\",\"type\":\"DataRange1d\"},{\"attributes\":{\"fill_color\":{\"value\":\"white\"},\"line_color\":{\"value\":\"#1f77b4\"},\"x\":{\"field\":\"x\"},\"y\":{\"field\":\"y\"}},\"id\":\"2024\",\"type\":\"Circle\"},{\"attributes\":{\"active_drag\":\"auto\",\"active_inspect\":\"auto\",\"active_multi\":null,\"active_scroll\":\"auto\",\"active_tap\":\"auto\",\"tools\":[{\"id\":\"1967\"},{\"id\":\"1968\"},{\"id\":\"1969\"},{\"id\":\"1970\"},{\"id\":\"1972\"}]},\"id\":\"1973\",\"type\":\"Toolbar\"},{\"attributes\":{\"axis_label\":\"fnorm\",\"formatter\":{\"id\":\"2104\"},\"ticker\":{\"id\":\"2003\"}},\"id\":\"2002\",\"type\":\"LinearAxis\"},{\"attributes\":{},\"id\":\"1994\",\"type\":\"LinearScale\"},{\"attributes\":{\"active_drag\":\"auto\",\"active_inspect\":\"auto\",\"active_multi\":null,\"active_scroll\":\"auto\",\"active_tap\":\"auto\",\"tools\":[{\"id\":\"2006\"},{\"id\":\"2007\"},{\"id\":\"2008\"},{\"id\":\"2009\"},{\"id\":\"2011\"}]},\"id\":\"2012\",\"type\":\"Toolbar\"},{\"attributes\":{\"callback\":null,\"tooltips\":[[\"\",\"($x{0.00}, $y{0.00})\"]]},\"id\":\"1972\",\"type\":\"HoverTool\"},{\"attributes\":{\"fill_alpha\":{\"value\":0.1},\"fill_color\":{\"value\":\"white\"},\"line_alpha\":{\"value\":0.1},\"line_color\":{\"value\":\"#1f77b4\"},\"x\":{\"field\":\"x\"},\"y\":{\"field\":\"y\"}},\"id\":\"1986\",\"type\":\"Circle\"},{\"attributes\":{\"axis\":{\"id\":\"1959\"},\"ticker\":null},\"id\":\"1962\",\"type\":\"Grid\"},{\"attributes\":{\"source\":{\"id\":\"1979\"}},\"id\":\"1983\",\"type\":\"CDSView\"},{\"attributes\":{},\"id\":\"2009\",\"type\":\"ResetTool\"},{\"attributes\":{},\"id\":\"2113\",\"type\":\"UnionRenderers\"},{\"attributes\":{\"line_color\":\"#1f77b4\",\"x\":{\"field\":\"x\"},\"y\":{\"field\":\"y\"}},\"id\":\"2019\",\"type\":\"Line\"},{\"attributes\":{\"axis_label\":\"step\",\"formatter\":{\"id\":\"2106\"},\"ticker\":{\"id\":\"1999\"}},\"id\":\"1998\",\"type\":\"LinearAxis\"},{\"attributes\":{},\"id\":\"2108\",\"type\":\"UnionRenderers\"},{\"attributes\":{\"callback\":null,\"tooltips\":[[\"\",\"($x{0.00}, $y{0.00})\"]]},\"id\":\"2011\",\"type\":\"HoverTool\"},{\"attributes\":{\"source\":{\"id\":\"1984\"}},\"id\":\"1988\",\"type\":\"CDSView\"},{\"attributes\":{\"axis_label\":\"etotal\",\"formatter\":{\"id\":\"2100\"},\"ticker\":{\"id\":\"1964\"}},\"id\":\"1963\",\"type\":\"LinearAxis\"},{\"attributes\":{\"source\":{\"id\":\"2018\"}},\"id\":\"2022\",\"type\":\"CDSView\"},{\"attributes\":{},\"id\":\"1990\",\"type\":\"DataRange1d\"},{\"attributes\":{},\"id\":\"1970\",\"type\":\"ResetTool\"},{\"attributes\":{\"data\":{\"x\":[\"NaN\"],\"y\":[\"NaN\"]},\"selected\":{\"id\":\"2109\"},\"selection_policy\":{\"id\":\"2110\"}},\"id\":\"1984\",\"type\":\"ColumnDataSource\"},{\"attributes\":{\"text\":\"\"},\"id\":\"2095\",\"type\":\"Title\"},{\"attributes\":{},\"id\":\"1964\",\"type\":\"BasicTicker\"},{\"attributes\":{\"overlay\":{\"id\":\"1971\"}},\"id\":\"1969\",\"type\":\"BoxZoomTool\"},{\"attributes\":{},\"id\":\"2109\",\"type\":\"Selection\"},{\"attributes\":{},\"id\":\"1955\",\"type\":\"LinearScale\"},{\"attributes\":{},\"id\":\"2003\",\"type\":\"BasicTicker\"},{\"attributes\":{\"overlay\":{\"id\":\"2010\"}},\"id\":\"2008\",\"type\":\"BoxZoomTool\"},{\"attributes\":{},\"id\":\"2106\",\"type\":\"BasicTickFormatter\"},{\"attributes\":{\"axis_label\":\"step\",\"formatter\":{\"id\":\"2102\"},\"ticker\":{\"id\":\"1960\"}},\"id\":\"1959\",\"type\":\"LinearAxis\"},{\"attributes\":{},\"id\":\"2006\",\"type\":\"PanTool\"},{\"attributes\":{},\"id\":\"2104\",\"type\":\"BasicTickFormatter\"},{\"attributes\":{\"data\":{\"x\":[\"NaN\"],\"y\":[\"NaN\"]},\"selected\":{\"id\":\"2114\"},\"selection_policy\":{\"id\":\"2115\"}},\"id\":\"2023\",\"type\":\"ColumnDataSource\"},{\"attributes\":{\"fill_color\":{\"value\":\"white\"},\"line_color\":{\"value\":\"#1f77b4\"},\"x\":{\"field\":\"x\"},\"y\":{\"field\":\"y\"}},\"id\":\"1985\",\"type\":\"Circle\"}],\"root_ids\":[\"2028\"]},\"title\":\"Bokeh Application\",\"version\":\"2.2.3\"}};\n  var render_items = [{\"docid\":\"54e86945-44fe-48cc-9e0c-23c3846ebc9b\",\"notebook_comms_target\":\"2117\",\"root_ids\":[\"2028\"],\"roots\":{\"2028\":\"16aa1dc1-b4e0-4814-962e-a61931daed3d\"}}];\n  root.Bokeh.embed.embed_items_notebook(docs_json, render_items);\n\n  }\n  if (root.Bokeh !== undefined) {\n    embed_document(root);\n  } else {\n    var attempts = 0;\n    var timer = setInterval(function(root) {\n      if (root.Bokeh !== undefined) {\n        clearInterval(timer);\n        embed_document(root);\n      } else {\n        attempts++;\n        if (attempts > 100) {\n          clearInterval(timer);\n          console.log(\"Bokeh: ERROR: Unable to run BokehJS code because BokehJS library is missing\");\n        }\n      }\n    }, 10, root)\n  }\n})(window);",
      "application/vnd.bokehjs_exec.v0+json": ""
     },
     "metadata": {
      "application/vnd.bokehjs_exec.v0+json": {
       "id": "2028"
      }
     },
     "output_type": "display_data"
    },
    {
     "data": {
      "application/vnd.jupyter.widget-view+json": {
       "model_id": "1633dc520a764cf4a75990dcb193713a",
       "version_major": 2,
       "version_minor": 0
      },
      "text/plain": [
       "FloatProgress(value=0.0, bar_style='info', description=' 0.00%', layout=Layout(width='900px'))"
      ]
     },
     "metadata": {},
     "output_type": "display_data"
    },
    {
     "name": "stdout",
     "output_type": "stream",
     "text": [
      "[I]: [21:54:29 CEST] Simulation `Compacting/EM` COMPLETED!\n"
     ]
    }
   ],
   "source": [
    "em_simulation.show(plot=True, verbose=2, ypos=[\"etotal\", \"fnorm\"], plot_window=100)"
   ]
  },
  {
   "cell_type": "markdown",
   "id": "certified-stephen",
   "metadata": {},
   "source": [
    "load results"
   ]
  },
  {
   "cell_type": "code",
   "execution_count": 79,
   "id": "becoming-stack",
   "metadata": {},
   "outputs": [
    {
     "ename": "NameError",
     "evalue": "name 'simulation' is not defined",
     "output_type": "error",
     "traceback": [
      "\u001b[0;31m---------------------------------------------------------------------------\u001b[0m",
      "\u001b[0;31mNameError\u001b[0m                                 Traceback (most recent call last)",
      "\u001b[0;32m<ipython-input-79-a8a48999afe3>\u001b[0m in \u001b[0;36m<module>\u001b[0;34m\u001b[0m\n\u001b[0;32m----> 1\u001b[0;31m out = reaxff.read_and_convert_dump(os.path.join(simulation.working_dir, simulation.files['output_dump']),\n\u001b[0m\u001b[1;32m      2\u001b[0m                                    index=-1, ncores=12)\n\u001b[1;32m      3\u001b[0m \u001b[0mout\u001b[0m\u001b[0;34m.\u001b[0m\u001b[0mset_pbc\u001b[0m\u001b[0;34m(\u001b[0m\u001b[0;32mTrue\u001b[0m\u001b[0;34m)\u001b[0m\u001b[0;34m\u001b[0m\u001b[0;34m\u001b[0m\u001b[0m\n\u001b[1;32m      4\u001b[0m \u001b[0;31m# Store in a System(Atoms) object with the moleculicense\u001b[0m\u001b[0;34m\u001b[0m\u001b[0;34m\u001b[0m\u001b[0;34m\u001b[0m\u001b[0m\n\u001b[1;32m      5\u001b[0m \u001b[0mSEI_em\u001b[0m \u001b[0;34m=\u001b[0m \u001b[0mSystem\u001b[0m\u001b[0;34m(\u001b[0m\u001b[0;34m)\u001b[0m\u001b[0;34m\u001b[0m\u001b[0;34m\u001b[0m\u001b[0m\n",
      "\u001b[0;31mNameError\u001b[0m: name 'simulation' is not defined"
     ]
    }
   ],
   "source": [
    "out = reaxff.read_and_convert_dump(\n",
    "    os.path.join(simulation.working_dir, simulation.files[\"output_dump\"]), index=-1, ncores=12\n",
    ")\n",
    "out.set_pbc(True)\n",
    "# Store in a System(Atoms) object with the moleculicense\n",
    "SEI_em = System()\n",
    "SEI_em.from_atoms(out)\n",
    "SEI_em.set_molecules(SEI_box.molecules_index, molecule_names=SEI_box.molecules_name)"
   ]
  },
  {
   "cell_type": "code",
   "execution_count": null,
   "id": "adopted-northwest",
   "metadata": {},
   "outputs": [],
   "source": [
    "v = view(SEI_em, viewer=\"ngl\")\n",
    "v.view.clear()\n",
    "v.view.add_ball_and_stick(SEI_em)\n",
    "v.view.add_unitcell(SEI_em)\n",
    "v.view.display(gui=True)\n",
    "v"
   ]
  },
  {
   "cell_type": "markdown",
   "id": "detailed-horror",
   "metadata": {},
   "source": [
    "Save the graphite ans SEI strucure after energy minimization"
   ]
  },
  {
   "cell_type": "code",
   "execution_count": 12,
   "id": "exclusive-insulin",
   "metadata": {},
   "outputs": [],
   "source": [
    "SEI_em.save(os.path.join(\"data\", \"2-SEI_energy_minimization.pkl\"))"
   ]
  }
 ],
 "metadata": {
  "kernelspec": {
   "display_name": "Python 3 (ipykernel)",
   "language": "python",
   "name": "python3"
  },
  "language_info": {
   "codemirror_mode": {
    "name": "ipython",
    "version": 3
   },
   "file_extension": ".py",
   "mimetype": "text/x-python",
   "name": "python",
   "nbconvert_exporter": "python",
   "pygments_lexer": "ipython3",
   "version": "3.8.10"
  },
  "toc-autonumbering": true
 },
 "nbformat": 4,
 "nbformat_minor": 5
}
